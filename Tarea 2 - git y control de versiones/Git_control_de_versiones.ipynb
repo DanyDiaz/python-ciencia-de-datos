{
 "cells": [
  {
   "cell_type": "markdown",
   "id": "weighted-portal",
   "metadata": {},
   "source": [
    "# Control de versiones con git"
   ]
  },
  {
   "cell_type": "markdown",
   "id": "processed-assist",
   "metadata": {},
   "source": [
    "**Curso**: Ciencia de Datos en Python\n",
    "\n",
    "**Catedrático**: Ing. Luis Leal\n",
    "\n",
    "**Estudiante**: Dany Rafael Díaz Lux (21000864)\n",
    "\n",
    "**Enunciado**: Tomar la [lección del MIT de git](https://missing.csail.mit.edu/2020/version-control/) y en un jupyter notebook entregar un ensayo acerca de git, es decir: un resumen de lo que ha aprendido, conclusiones, comentarios y ejemplos propios, esto usando markdown en el notebook , para ejemplificar cualquier comando de git pueden usar [magic cells](https://jakevdp.github.io/PythonDataScienceHandbook/01.03-magic-commands.html), un tipo especial de celdas de jupyter que nos permite escribir comandos que no son de python si no de nuestro sistema.\n",
    "\n",
    "**Fecha de entrega**: miércoles 10 de febrero."
   ]
  },
  {
   "cell_type": "markdown",
   "id": "victorian-specialist",
   "metadata": {},
   "source": [
    "## Resumen"
   ]
  },
  {
   "cell_type": "markdown",
   "id": "relevant-boston",
   "metadata": {},
   "source": []
  },
  {
   "cell_type": "markdown",
   "id": "former-birth",
   "metadata": {},
   "source": [
    "## Comentarios personales"
   ]
  },
  {
   "cell_type": "markdown",
   "id": "industrial-reply",
   "metadata": {},
   "source": []
  },
  {
   "cell_type": "markdown",
   "id": "mineral-contractor",
   "metadata": {},
   "source": [
    "## Conclusiones"
   ]
  },
  {
   "cell_type": "markdown",
   "id": "apparent-fundamentals",
   "metadata": {},
   "source": []
  },
  {
   "cell_type": "markdown",
   "id": "described-approach",
   "metadata": {},
   "source": [
    "## Ejemplos propios"
   ]
  },
  {
   "cell_type": "code",
   "execution_count": null,
   "id": "infinite-shareware",
   "metadata": {},
   "outputs": [],
   "source": []
  }
 ],
 "metadata": {
  "kernelspec": {
   "display_name": "Python 3",
   "language": "python",
   "name": "python3"
  },
  "language_info": {
   "codemirror_mode": {
    "name": "ipython",
    "version": 3
   },
   "file_extension": ".py",
   "mimetype": "text/x-python",
   "name": "python",
   "nbconvert_exporter": "python",
   "pygments_lexer": "ipython3",
   "version": "3.8.5"
  }
 },
 "nbformat": 4,
 "nbformat_minor": 5
}
