{
 "cells": [
  {
   "cell_type": "markdown",
   "id": "terminal-reward",
   "metadata": {},
   "source": [
    "# Control de versiones con git\n",
    "\n",
    "**Curso**: Ciencia de Datos en Python\n",
    "\n",
    "**Catedrático**: Ing. Luis Leal\n",
    "\n",
    "**Estudiante**: Dany Rafael Díaz Lux (21000864)\n",
    "\n",
    "**Enunciado**: Tomar la [lección del MIT de git](https://missing.csail.mit.edu/2020/version-control/) y en un jupyter notebook entregar un ensayo acerca de git, es decir: un resumen de lo que ha aprendido, conclusiones, comentarios y ejemplos propios, esto usando markdown en el notebook , para ejemplificar cualquier comando de git pueden usar [magic cells](https://jakevdp.github.io/PythonDataScienceHandbook/01.03-magic-commands.html), un tipo especial de celdas de jupyter que nos permite escribir comandos que no son de python si no de nuestro sistema.\n",
    "\n",
    "**Fecha de entrega**: miércoles 10 de febrero."
   ]
  },
  {
   "cell_type": "markdown",
   "id": "opposite-prerequisite",
   "metadata": {},
   "source": [
    "## Resumen\n",
    "\n",
    "### Introducción\n",
    "Los sistemas de control de versiones (VCSs por sus siglas en inglés) ayudan a llevar seguimiento de los cambios que se aplican a un conjunto de archivos. Ayudan mucho en proyectos donde colaboran muchas personas en diferentes archivos, o incluso en cuando estás trabajando en solitario porque VCSs ayudan a contestar preguntas importantes como:\n",
    "* ¿__Quién__ cambió este archivo?\n",
    "* ¿__Cuándo__ fue introducido este cambio?\n",
    "* ¿__Por qué__ fue cambiada esta línea?\n",
    "* _Muchas más_...\n",
    "\n",
    "### Entendiendo git\n",
    "git es un VCS muy popular que regularmente se empieza a usar sin entender por completo cómo funciona, esto puede conllevar a utilizar sólo los comandos más básicos de git sin mayor comprensión de lo que pasa con nuestros archivos y nos impiden resolver problemas más complejos que pueden presentarse más adelante.\n",
    "\n",
    "Para mejorar nuestra compresión de git iniciaremos con una explicación de su modelo de datos.\n",
    "\n",
    "### Modelo de datos de git\n",
    "\n",
    "#### _Snapshots_ (instantáneas)\n",
    "git modela la historia de un conjunto de archivos, dentro de un folder principal, como **una serie de _snapshots_**. Para entender un _snapshot_, se deben comprender los siguientes términos:\n",
    "* _blob_: un archivo, un conjunto de bytes.\n",
    "* _tree_ (árbol): un folder, que puede contener _blobs_ o _trees_.\n",
    "\n",
    "Un _snapshot_ es el folder principal (que contiene todos los _blobs_ y _trees_) que está siendo registrado por git.\n",
    "\n",
    "### Modelando la historia = relacionando _snapshots_\n",
    "Para manejar la historia de todos los archivos, git usa un _Grafo dirigido acíclico_ (DAG por sus siglas en inglés) de _snapshots_, que básicamente significa que cada _snapshot_ en git hará referencia a uno o varios _snapshots_ padres. Como lo muestra la siguiente imagen:\n",
    "\n",
    "![Grafo dirigido acíclico de git](https://www.oreilly.com/library/view/git-pocket-guide/9781449327507/images/gtpg_0101.png \"Grafo dirigido acíclico de git\")\n",
    "\n",
    "_Imagen obtenida de la página web: [Chapter 1. Understanding Git](https://www.oreilly.com/library/view/git-pocket-guide/9781449327507/ch01.html), como se puede observar, cada nodo en el grafo (que representa un snapshot) apunta al menos a un padre, con la excepción del nodo inicial que representa el inicio de la historia de los archivos en git._\n",
    "\n",
    "Cada _snapshot_ se realiza por medio de un _commit_ (comprometer) en git, que guarda los contenidos de todos los archivos en ese momento específico.\n",
    "\n",
    "### Objetos y direccionamiento de contenido\n",
    "Un objeto puede ser un _blob_ (archivo), _tree_ (folder), o un _commit_ (instantánea). En el almacén de datos de git todo el contenido de los  objetos pueden ser obtenidos por un identificador generado por la aplicación del algoritmo [SHA1](https://en.wikipedia.org/wiki/SHA-1) en dicho objeto.\n",
    "\n",
    "Es importante señalar que cuando un objeto hace referencia a otro objeto, **no posee el contenido del objeto referenciado, sólo posee el identificador a ese objeto**. Así por ejemplo, un _tree_ (folder) sólo posee los identificadores a los objetos que contiene.\n",
    "\n",
    "### Referencias\n",
    "Los identificadores generados por el algoritmo **SHA1** están formados por 40 caracteres alfanuméricos (como `a43913adf3occmce...`), lo cual no es conveniente para las personas. Por lo cual git permite utilizar **referencias** que son nombres que podemos darle a cualquier _commit_, como por ejemplo `Version2021`. Estas referencias pueden ser actualizadas para apuntar a nuevos o anteriores _commits_.\n",
    "\n",
    "Existe una referencia especial **que indica donde nos encontramos siempre** en nuestro grafo de git, esta referencia se llama **HEAD**.\n",
    "\n",
    "### Repositorios\n",
    "Un repositorio de git son los objetos de datos y referencias. En eso consiste básicamente el modelo de datos de git. Todos los comandos de git hacen manipulaciones al _DAG_ por medio de agregar objetos y agregar o actualizar referencias.\n",
    "\n",
    "### _Staging area_ (área de preparación)\n",
    "_Staging area_ es aquella en la cual se incluyen todos los cambios que deseamos incluir en un _commit_. El objetivo de _staging area_ es realizar commit con el estado de los archivos que deseamos. Por ejemplo, si tenemos 2 archivos modificados, pero sólo deseamos incluir las modificaciones de un archivo en el próximo _commit_, incluimos sólo este archivo en nuestra _staging area_. El otro archivo no incluido se puede dejar para más adelante o descartar de acuerdo a nuestras necesidades."
   ]
  },
  {
   "cell_type": "markdown",
   "id": "frozen-thought",
   "metadata": {},
   "source": [
    "## Ejemplos\n",
    "A continuación se mostrarán diversos comandos de git para indicar su funcionamiento y utilidad.\n",
    "\n",
    "**_Nota: \n",
    "Todos los comandos a continuación fueron ejecutados en un sistema Windows 10, con diversas utilidades adicionales instaladas (como git bash), por lo que si un comando no funciona adecuadamente podría deberse a problemas específicos de sistema operativo o utilidades que no se tienen instaladas. Además los comandos se deben ejecutar en el orden que se muestran a continuación, pues algunos de ellos dependen de comandos ejecutados anteriormente._**"
   ]
  },
  {
   "cell_type": "markdown",
   "id": "shaped-runner",
   "metadata": {},
   "source": [
    "### 1. git init\n",
    "Crea un nuevo repositorio de git"
   ]
  },
  {
   "cell_type": "code",
   "execution_count": 7,
   "id": "pointed-territory",
   "metadata": {},
   "outputs": [
    {
     "data": {
      "text/plain": [
       "['Initialized empty Git repository in C:/Users/Dany/Documents/01 Dany/MaestrÃ\\xada/Python para ciencia de datos/python-ciencia-de-datos/Tarea 2 - git y control de versiones/_nuevo_repositorio_test_/.git/']"
      ]
     },
     "execution_count": 7,
     "metadata": {},
     "output_type": "execute_result"
    }
   ],
   "source": [
    "%sx git init _nuevo_repositorio_test_"
   ]
  },
  {
   "cell_type": "markdown",
   "id": "about-plastic",
   "metadata": {},
   "source": [
    "### 2. git status\n",
    "Señala el estado de nuestro repositorio actualmente. Qué archivos han cambiado. Qué archivos están dentro y fuera de _staging area_, etc."
   ]
  },
  {
   "cell_type": "code",
   "execution_count": 18,
   "id": "exposed-request",
   "metadata": {},
   "outputs": [
    {
     "name": "stdout",
     "output_type": "stream",
     "text": [
      "C:\\Users\\Dany\\Documents\\01 Dany\\Maestría\\Python para ciencia de datos\\python-ciencia-de-datos\\Tarea 2 - git y control de versiones\\_nuevo_repositorio_test_\n"
     ]
    },
    {
     "data": {
      "text/plain": [
       "['On branch master',\n",
       " '',\n",
       " 'No commits yet',\n",
       " '',\n",
       " 'Untracked files:',\n",
       " '  (use \"git add <file>...\" to include in what will be committed)',\n",
       " '',\n",
       " '\\tarchivo_de_prueba.txt',\n",
       " '',\n",
       " 'nothing added to commit but untracked files present (use \"git add\" to track)']"
      ]
     },
     "execution_count": 18,
     "metadata": {},
     "output_type": "execute_result"
    }
   ],
   "source": [
    "# Enter to the new repository created\n",
    "%cd _nuevo_repositorio_test_\n",
    "\n",
    "# Create a new file in the repository initialized\n",
    "%sx touch archivo_de_prueba.txt\n",
    "\n",
    "# Add some content to the file\n",
    "%sx echo Listado de cosas: > archivo_de_prueba.txt\n",
    "%sx echo Sol >> archivo_de_prueba.txt\n",
    "\n",
    "# Ejecutar git status para ver el estado actual del repositorio\n",
    "%sx git status"
   ]
  },
  {
   "cell_type": "markdown",
   "id": "significant-community",
   "metadata": {},
   "source": [
    "### 3. git add\n",
    "Incluye archivos al _staging area_ (en este espacio estarán todos los archivos que serán tomados en cuenta al momento de hacer un _commit_)."
   ]
  },
  {
   "cell_type": "code",
   "execution_count": 19,
   "id": "likely-differential",
   "metadata": {},
   "outputs": [
    {
     "data": {
      "text/plain": [
       "['On branch master',\n",
       " '',\n",
       " 'No commits yet',\n",
       " '',\n",
       " 'Changes to be committed:',\n",
       " '  (use \"git rm --cached <file>...\" to unstage)',\n",
       " '',\n",
       " '\\tnew file:   archivo_de_prueba.txt',\n",
       " '']"
      ]
     },
     "execution_count": 19,
     "metadata": {},
     "output_type": "execute_result"
    }
   ],
   "source": [
    "# Incluimos archivo_de_prueba.txt al staging area\n",
    "%sx git add archivo_de_prueba.txt\n",
    "\n",
    "# Consultamos de nuevo el estado del repositorio\n",
    "%sx git status"
   ]
  },
  {
   "cell_type": "markdown",
   "id": "extra-canadian",
   "metadata": {},
   "source": [
    "### 4. git commit\n",
    "Crea una instantánea de todos los archivos que conforman el repositorio."
   ]
  },
  {
   "cell_type": "code",
   "execution_count": 20,
   "id": "successful-omega",
   "metadata": {},
   "outputs": [
    {
     "data": {
      "text/plain": [
       "['[master (root-commit) 8ef5d04] Nuevo archivo en repositorio.',\n",
       " ' 1 file changed, 2 insertions(+)',\n",
       " ' create mode 100644 archivo_de_prueba.txt']"
      ]
     },
     "execution_count": 20,
     "metadata": {},
     "output_type": "execute_result"
    }
   ],
   "source": [
    "%sx git commit -m \"Nuevo archivo en repositorio.\""
   ]
  },
  {
   "cell_type": "markdown",
   "id": "valid-electric",
   "metadata": {},
   "source": [
    "### 5. git log\n",
    "Muestra todos los _commits_ realizados en el historial: quién lo hizo, cuándo se hizo, y un mensaje asociado con el commit."
   ]
  },
  {
   "cell_type": "code",
   "execution_count": 21,
   "id": "prescription-handbook",
   "metadata": {},
   "outputs": [
    {
     "data": {
      "text/plain": [
       "['commit 8ef5d0484c5b25d86aeb299e1a9a5963c0796f64',\n",
       " 'Author: Dany DÃ\\xadaz <dany_diaz_22@hotmail.com>',\n",
       " 'Date:   Sun Feb 7 09:31:33 2021 -0600',\n",
       " '',\n",
       " '    Nuevo archivo en repositorio.']"
      ]
     },
     "execution_count": 21,
     "metadata": {},
     "output_type": "execute_result"
    }
   ],
   "source": [
    "%sx git log"
   ]
  },
  {
   "cell_type": "markdown",
   "id": "average-island",
   "metadata": {},
   "source": [
    "### 6. git diff\n",
    "Nos permite ver diferencias entre _commits_, entre nuestro directorio de trabajo actual y nuestra _staging area_, entre _staging area_ y último _commit_, etc; para todos los archivos o un archivo en particular.\n",
    "\n",
    "* **git diff**: Sin parámetros nos permite observar las diferencias que existen en nuestro directorio actual que no existen en nuestro _staging area_.\n",
    "* **git diff --staged**: Muestra las diferencias entre nuestro _staging area_ y nuestro último _commit_.\n",
    "* **git diff [commit1] [commit2]**: Muestra las diferencias entre _commit1_ y _commit2_."
   ]
  },
  {
   "cell_type": "code",
   "execution_count": 22,
   "id": "alien-helping",
   "metadata": {},
   "outputs": [
    {
     "data": {
      "text/plain": [
       "['diff --git a/archivo_de_prueba.txt b/archivo_de_prueba.txt',\n",
       " 'index bd755bc..c48166e 100644',\n",
       " '--- a/archivo_de_prueba.txt',\n",
       " '+++ b/archivo_de_prueba.txt',\n",
       " '@@ -1,2 +1,3 @@',\n",
       " ' Listado de cosas: ',\n",
       " ' Sol ',\n",
       " '+Campo ']"
      ]
     },
     "execution_count": 22,
     "metadata": {},
     "output_type": "execute_result"
    }
   ],
   "source": [
    "# Agregar una línea a archivo_de_prueba.txt\n",
    "%sx echo Campo >> archivo_de_prueba.txt\n",
    "\n",
    "#Mostrar diferencias entre nuestro directorio actual y nuestro staging area.\n",
    "%sx git diff"
   ]
  },
  {
   "cell_type": "code",
   "execution_count": 23,
   "id": "white-sterling",
   "metadata": {},
   "outputs": [
    {
     "data": {
      "text/plain": [
       "['diff --git a/archivo_de_prueba.txt b/archivo_de_prueba.txt',\n",
       " 'index bd755bc..c48166e 100644',\n",
       " '--- a/archivo_de_prueba.txt',\n",
       " '+++ b/archivo_de_prueba.txt',\n",
       " '@@ -1,2 +1,3 @@',\n",
       " ' Listado de cosas: ',\n",
       " ' Sol ',\n",
       " '+Campo ']"
      ]
     },
     "execution_count": 23,
     "metadata": {},
     "output_type": "execute_result"
    }
   ],
   "source": [
    "# Agregar todos nuestros cambios al staging area.\n",
    "%sx git add -A\n",
    "\n",
    "# Mostrar los cambios entre nuestro staging area y nuestro último commit\n",
    "%sx git diff --staged"
   ]
  },
  {
   "cell_type": "code",
   "execution_count": 28,
   "id": "oriental-fantasy",
   "metadata": {},
   "outputs": [
    {
     "data": {
      "text/plain": [
       "['diff --git a/archivo_de_prueba.txt b/archivo_de_prueba.txt',\n",
       " 'index bd755bc..c48166e 100644',\n",
       " '--- a/archivo_de_prueba.txt',\n",
       " '+++ b/archivo_de_prueba.txt',\n",
       " '@@ -1,2 +1,3 @@',\n",
       " ' Listado de cosas: ',\n",
       " ' Sol ',\n",
       " '+Campo ']"
      ]
     },
     "execution_count": 28,
     "metadata": {},
     "output_type": "execute_result"
    }
   ],
   "source": [
    "# Realizar commit de nuestro último cambio.\n",
    "%sx git commit -m \"Nueva línea ingresada.\"\n",
    "\n",
    "# Comparar los cambios entre los últimos dos commits.\n",
    "# Notar que HEAD~1 hace referencia al commit anterior al que ahora apunta HEAD.\n",
    "%sx git diff HEAD~1 HEAD"
   ]
  },
  {
   "cell_type": "markdown",
   "id": "smoking-drink",
   "metadata": {},
   "source": [
    "### 7. git branch\n",
    "Muestra las _branches_ (ramas) que existen en nuestro repositorio. También permite crear una nueva branch en el _commit_ actual que nos encontramos."
   ]
  },
  {
   "cell_type": "code",
   "execution_count": 29,
   "id": "loved-flight",
   "metadata": {},
   "outputs": [
    {
     "data": {
      "text/plain": [
       "['* master']"
      ]
     },
     "execution_count": 29,
     "metadata": {},
     "output_type": "execute_result"
    }
   ],
   "source": [
    "# Mostrar las branches que existen. Por defecto existirá desde el inicio una branch \"master\".\n",
    "%sx git branch"
   ]
  },
  {
   "cell_type": "code",
   "execution_count": 30,
   "id": "permanent-europe",
   "metadata": {},
   "outputs": [
    {
     "data": {
      "text/plain": [
       "['  NuevaRama', '* master']"
      ]
     },
     "execution_count": 30,
     "metadata": {},
     "output_type": "execute_result"
    }
   ],
   "source": [
    "# Crear una nueva branch desde el commit que nos encontramos\n",
    "%sx git branch NuevaRama\n",
    "\n",
    "# Mostrar nuevamente todas las ramas\n",
    "%sx git branch"
   ]
  },
  {
   "cell_type": "markdown",
   "id": "dangerous-kansas",
   "metadata": {},
   "source": [
    "### 8. git checkout\n",
    "Cambia nuestra posición (HEAD) entre _branches_ o a cualquier _commit_ en nuestro historial del repositorio. Al cambiar a dicha _branch_ o _commit_ todos los contenidos de los archivos en el repositorio son restablecidos para coincidir con ese _commit_."
   ]
  },
  {
   "cell_type": "code",
   "execution_count": 31,
   "id": "chemical-founder",
   "metadata": {},
   "outputs": [
    {
     "data": {
      "text/plain": [
       "[\"Switched to branch 'NuevaRama'\"]"
      ]
     },
     "execution_count": 31,
     "metadata": {},
     "output_type": "execute_result"
    }
   ],
   "source": [
    "# Cambiar HEAD a la nueva branch: NuevaRama\n",
    "%sx git checkout NuevaRama"
   ]
  },
  {
   "cell_type": "code",
   "execution_count": 33,
   "id": "polish-comparative",
   "metadata": {},
   "outputs": [
    {
     "data": {
      "text/plain": [
       "['* NuevaRama', '  master']"
      ]
     },
     "execution_count": 33,
     "metadata": {},
     "output_type": "execute_result"
    }
   ],
   "source": [
    "# Mostrar ramas. Notar que el asterisco en NuevaRama, señala que ahora HEAD está apuntando a Nueva Rama\n",
    "%sx git branch"
   ]
  },
  {
   "cell_type": "code",
   "execution_count": 37,
   "id": "animated-somewhere",
   "metadata": {},
   "outputs": [
    {
     "data": {
      "text/plain": [
       "['* b3f3017 (HEAD -> NuevaRama) Agregar agua a listado.',\n",
       " '* bfb7aeb (master) Nueva lÃ\\xadnea ingresada.',\n",
       " '* 8ef5d04 Nuevo archivo en repositorio.']"
      ]
     },
     "execution_count": 37,
     "metadata": {},
     "output_type": "execute_result"
    }
   ],
   "source": [
    "# En la nueva branch, agregar nueva línea a archivo_de_prueba.txt\n",
    "%sx echo Agua >> archivo_de_prueba.txt\n",
    "\n",
    "# Agregar cambio a staging area\n",
    "%sx git add -A\n",
    "\n",
    "# Nuevo commit sobre branch NuevaRama\n",
    "%sx git commit -m \"Agregar agua a listado.\"\n",
    "\n",
    "# Mostrar historial de repositorio\n",
    "# Notar que HEAD está apuntando a \"NuevaRama\" y está un commit adelante de la branch \"master\"\n",
    "%sx git log --graph --oneline --decorate"
   ]
  },
  {
   "cell_type": "code",
   "execution_count": 38,
   "id": "industrial-quantity",
   "metadata": {},
   "outputs": [
    {
     "data": {
      "text/plain": [
       "['Listado de cosas: ', 'Sol ', 'Campo ', 'Agua ']"
      ]
     },
     "execution_count": 38,
     "metadata": {},
     "output_type": "execute_result"
    }
   ],
   "source": [
    "# Ver contenido de archivo_de_prueba.txt en branch \"NuevaRama\"\n",
    "# Notar que existe la línea con contenido \"Agua\"\n",
    "%sx cat archivo_de_prueba.txt"
   ]
  },
  {
   "cell_type": "code",
   "execution_count": 39,
   "id": "controlled-neighborhood",
   "metadata": {},
   "outputs": [
    {
     "data": {
      "text/plain": [
       "['Listado de cosas: ', 'Sol ', 'Campo ']"
      ]
     },
     "execution_count": 39,
     "metadata": {},
     "output_type": "execute_result"
    }
   ],
   "source": [
    "# Cambiar a branch \"master\"\n",
    "%sx git checkout master\n",
    "\n",
    "# Al ver nuevamente el contenido de archivo_de_prueba.txt vemos que no existe la línea \"Agua\" porque dicha línea no existe en branch master\n",
    "%sx cat archivo_de_prueba.txt"
   ]
  },
  {
   "cell_type": "code",
   "execution_count": 41,
   "id": "handed-russell",
   "metadata": {},
   "outputs": [
    {
     "data": {
      "text/plain": [
       "['* b3f3017 (NuevaRama) Agregar agua a listado.',\n",
       " '* bfb7aeb (HEAD -> master) Nueva lÃ\\xadnea ingresada.',\n",
       " '* 8ef5d04 Nuevo archivo en repositorio.']"
      ]
     },
     "execution_count": 41,
     "metadata": {},
     "output_type": "execute_result"
    }
   ],
   "source": [
    "# Mostrar historial de repositorio de git\n",
    "# Notar que HEAD está apuntando a master.\n",
    "%sx git log --all --graph --oneline --decorate"
   ]
  },
  {
   "cell_type": "markdown",
   "id": "ruled-automation",
   "metadata": {},
   "source": [
    "### 9. git merge\n",
    "Nos permite unir dos o más _branches_."
   ]
  },
  {
   "cell_type": "code",
   "execution_count": 42,
   "id": "dramatic-executive",
   "metadata": {},
   "outputs": [
    {
     "data": {
      "text/plain": [
       "['Updating bfb7aeb..b3f3017',\n",
       " 'Fast-forward',\n",
       " ' archivo_de_prueba.txt | 1 +',\n",
       " ' 1 file changed, 1 insertion(+)']"
      ]
     },
     "execution_count": 42,
     "metadata": {},
     "output_type": "execute_result"
    }
   ],
   "source": [
    "# Hacer merge de las ramas \"master\" (en la cual nos encontramos) y la branch \"NuevaRama\"\n",
    "# Notar que git realizó un \"fast-forward\" que significa que \"master\" fue actualizada con los cambios de \"NuevaRama\"\n",
    "# ya que no había ningún conflicto y toda la historia de \"master\" estaba contenida en \"NuevaRama\"\n",
    "%sx git merge NuevaRama"
   ]
  },
  {
   "cell_type": "code",
   "execution_count": 43,
   "id": "rational-surrey",
   "metadata": {},
   "outputs": [
    {
     "data": {
      "text/plain": [
       "['* b3f3017 (HEAD -> master, NuevaRama) Agregar agua a listado.',\n",
       " '* bfb7aeb Nueva lÃ\\xadnea ingresada.',\n",
       " '* 8ef5d04 Nuevo archivo en repositorio.']"
      ]
     },
     "execution_count": 43,
     "metadata": {},
     "output_type": "execute_result"
    }
   ],
   "source": [
    "# Ver historial de nuestro repositorio.\n",
    "# Notar que ahora HEAD, master, NuevaRama, apuntan al mismo commit.\n",
    "%sx git log --all --graph --oneline --decorate"
   ]
  },
  {
   "cell_type": "markdown",
   "id": "explicit-delaware",
   "metadata": {},
   "source": [
    "### 10. git rebase\n",
    "También puede unir dos _branches_, pero a diferencia de merge, su objetivo es aplicar los _commits_ de una branch **después** de los _commits_ de otra branch desde un punto común en su historia.\n",
    "\n",
    "![Diferencia entre git merge y git rebase](https://i.stack.imgur.com/fb6L4.png \"Diferencia entre git merge y git rebase\")\n",
    "\n",
    "_Imagen obtenida de la página web: [When do you use Git rebase instead of Git merge? - closed](https://stackoverflow.com/questions/804115/when-do-you-use-git-rebase-instead-of-git-merge), se puede observar que aunque ambas operaciones dejarán un punto común final a ambas branches, git rebase mostrará todos los commits de \"feature\" después de los commits de \"master\" mientras que git merge los mostrará de forma paralela._"
   ]
  },
  {
   "cell_type": "markdown",
   "id": "accepted-copying",
   "metadata": {},
   "source": [
    "### 11. git remote\n",
    "Lista todos los repositorios _remotos_ que tenemos considerados. También puede agregar nuevos repositorios remotos."
   ]
  },
  {
   "cell_type": "code",
   "execution_count": 44,
   "id": "harmful-interval",
   "metadata": {},
   "outputs": [
    {
     "data": {
      "text/plain": [
       "[]"
      ]
     },
     "execution_count": 44,
     "metadata": {},
     "output_type": "execute_result"
    }
   ],
   "source": [
    "# Si queremos mostrar los repositorios remotos que tenemos actualmente, no nos dará ningún resultado\n",
    "%sx git remote"
   ]
  },
  {
   "cell_type": "code",
   "execution_count": 45,
   "id": "criminal-sperm",
   "metadata": {},
   "outputs": [
    {
     "name": "stdout",
     "output_type": "stream",
     "text": [
      "C:\\Users\\Dany\\Documents\\01 Dany\\Maestría\\Python para ciencia de datos\\python-ciencia-de-datos\\Tarea 2 - git y control de versiones\n",
      "C:\\Users\\Dany\\Documents\\01 Dany\\Maestría\\Python para ciencia de datos\\python-ciencia-de-datos\\Tarea 2 - git y control de versiones\\_nuevo_repositorio_test_\n"
     ]
    },
    {
     "data": {
      "text/plain": [
       "['origin']"
      ]
     },
     "execution_count": 45,
     "metadata": {},
     "output_type": "execute_result"
    }
   ],
   "source": [
    "# Crearemos un repositorio nuevo sin directorio de trabajo para agregarlo como repositorio remoto después.\n",
    "\n",
    "# Vamos a nuestro directorio padre\n",
    "%cd ..\n",
    "\n",
    "# Creamos un nuevo repositorio sin directorio de trabajo (--bare)\n",
    "%sx git init _remoto_test_ --bare\n",
    "\n",
    "# Regresamos a nuestro directorio de trabajo\n",
    "%cd _nuevo_repositorio_test_\n",
    "\n",
    "# Agregamos nuevo repositorio remoto\n",
    "%sx git remote add origin ../_remoto_test_\n",
    "\n",
    "# Mostramos de nuevo nuestros repositorios remotos y ahora mostrará \"origin\"\n",
    "%sx git remote"
   ]
  },
  {
   "cell_type": "markdown",
   "id": "inner-bridges",
   "metadata": {},
   "source": [
    "### 12. git push\n",
    "Envía los cambios de una branch de un repositorio local a un repositorio remoto. La sintaxis del comando es la siguiente:\n",
    "\n",
    "`git push [repositorio remoto] [branch local]:[branch remota]`"
   ]
  },
  {
   "cell_type": "code",
   "execution_count": 46,
   "id": "together-layer",
   "metadata": {},
   "outputs": [
    {
     "data": {
      "text/plain": [
       "['To ../_remoto_test_', ' * [new branch]      master -> master']"
      ]
     },
     "execution_count": 46,
     "metadata": {},
     "output_type": "execute_result"
    }
   ],
   "source": [
    "# Enviar los cambios de branch \"master\" al repositorio remoto \"origin\"\n",
    "%sx git push origin master:master"
   ]
  },
  {
   "cell_type": "code",
   "execution_count": 49,
   "id": "loving-envelope",
   "metadata": {},
   "outputs": [
    {
     "data": {
      "text/plain": [
       "[\"Branch 'NuevaRama' set up to track remote branch 'NuevaRama' from 'origin'.\",\n",
       " 'To ../_remoto_test_',\n",
       " ' * [new branch]      NuevaRama -> NuevaRama']"
      ]
     },
     "execution_count": 49,
     "metadata": {},
     "output_type": "execute_result"
    }
   ],
   "source": [
    "# Para no escribir en cada git push, el nombre del repositorio remoto y branch a la cual queremos enviar los cambios podemos\n",
    "# indicarlo con el comando git push --set-upstream [repositorio remoto] [branch remota]\n",
    "\n",
    "# Indicamos a dónde serán enviados los cambios para la branh \"NuevaRama\"\n",
    "%sx git push --set-upstream origin NuevaRama"
   ]
  },
  {
   "cell_type": "code",
   "execution_count": 50,
   "id": "japanese-pacific",
   "metadata": {},
   "outputs": [
    {
     "data": {
      "text/plain": [
       "['To ../_remoto_test_', '   b3f3017..02d7896  NuevaRama -> NuevaRama']"
      ]
     },
     "execution_count": 50,
     "metadata": {},
     "output_type": "execute_result"
    }
   ],
   "source": [
    "# Nuevos cambios a archivo_de_prueba.txt\n",
    "%sx echo Libros >> archivo_de_prueba.txt\n",
    "\n",
    "# Agregar cambios a staging area\n",
    "%sx git add -A\n",
    "\n",
    "# Crear nuevo commit\n",
    "%sx git commit -m \"Agregar libros a listado.\"\n",
    "\n",
    "# Enviar cambios a repositorio y branch remotos sin especificar nombre\n",
    "%sx git push"
   ]
  },
  {
   "cell_type": "code",
   "execution_count": 51,
   "id": "nervous-evans",
   "metadata": {},
   "outputs": [
    {
     "data": {
      "text/plain": [
       "['* NuevaRama 02d7896 [origin/NuevaRama] Agregar libros a listado.',\n",
       " '  master    b3f3017 Agregar agua a listado.']"
      ]
     },
     "execution_count": 51,
     "metadata": {},
     "output_type": "execute_result"
    }
   ],
   "source": [
    "# Si obtenemos todas las branches, podemos observar que \"NuevaRama\" tiene asociada la rama remota \"origin/NuevaRama\"\n",
    "%sx git branch -vv"
   ]
  },
  {
   "cell_type": "markdown",
   "id": "large-municipality",
   "metadata": {},
   "source": [
    "### 13. git clone\n",
    "Copia un repositorio remoto en un nuevo directorio."
   ]
  },
  {
   "cell_type": "code",
   "execution_count": 52,
   "id": "certain-custody",
   "metadata": {},
   "outputs": [
    {
     "name": "stdout",
     "output_type": "stream",
     "text": [
      "C:\\Users\\Dany\\Documents\\01 Dany\\Maestría\\Python para ciencia de datos\\python-ciencia-de-datos\\Tarea 2 - git y control de versiones\n",
      "C:\\Users\\Dany\\Documents\\01 Dany\\Maestría\\Python para ciencia de datos\\python-ciencia-de-datos\\Tarea 2 - git y control de versiones\\_otro_repositorio_test_\n"
     ]
    },
    {
     "data": {
      "text/plain": [
       "['* 02d7896 (origin/NuevaRama) Agregar libros a listado.',\n",
       " '* b3f3017 (HEAD -> master, origin/master, origin/HEAD) Agregar agua a listado.',\n",
       " '* bfb7aeb Nueva lÃ\\xadnea ingresada.',\n",
       " '* 8ef5d04 Nuevo archivo en repositorio.']"
      ]
     },
     "execution_count": 52,
     "metadata": {},
     "output_type": "execute_result"
    }
   ],
   "source": [
    "# Ir a directorio padre\n",
    "%cd ..\n",
    "\n",
    "# Clonar el repositorio remoto \"_remoto_test_\" en un nuevo directorio que se llame \"_otro_repositorio_test_\"\n",
    "%sx git clone ./_remoto_test_ _otro_repositorio_test_\n",
    "\n",
    "# Entrar a nuevo directorio creado\n",
    "%cd _otro_repositorio_test_\n",
    "\n",
    "# Desplegar el log del nuevo repositorio, observar que tiene toda la historia enviada al repositorio remoto\n",
    "%sx git log --all --graph --oneline --decorate"
   ]
  },
  {
   "cell_type": "markdown",
   "id": "spread-serum",
   "metadata": {},
   "source": [
    "### 14. git fetch\n",
    "Obtiene todo los cambios de un repositorio remoto sin cambiar el directorio de trabajo actual (es decir, sin cambiar HEAD)."
   ]
  },
  {
   "cell_type": "code",
   "execution_count": 64,
   "id": "brown-dealer",
   "metadata": {},
   "outputs": [
    {
     "data": {
      "text/plain": [
       "['* 04808e8 (HEAD -> NuevaRama, origin/NuevaRama) feat: Agregar perros.',\n",
       " '* 02d7896 Agregar libros a listado.',\n",
       " '* b3f3017 (origin/master, origin/HEAD, master) Agregar agua a listado.',\n",
       " '* bfb7aeb Nueva lÃ\\xadnea ingresada.',\n",
       " '* 8ef5d04 Nuevo archivo en repositorio.']"
      ]
     },
     "execution_count": 64,
     "metadata": {},
     "output_type": "execute_result"
    }
   ],
   "source": [
    "# Realizaremos las siguientes acciones:\n",
    "#  1. Crear un nuevo cambio en nuevo repositorio y observar el historial con git log\n",
    "#  2. Enviarlo al repositorio remoto\n",
    "#  3. Ir a previo repositorio y observar historial con git log (ver que no aparece último cambio enviado a repositorio remoto)\n",
    "#  4. Realizar git fetch y observar que el nuevo cambio aparece, pero que HEAD no ha cambiado (es decir, contenido de archivos no ha cambiado).\n",
    "#  5. Observar contenido de archivo_de_prueba.txt después de fetch.\n",
    "\n",
    "#  1. Crear un nuevo cambio en nuevo repositorio y observar el historial con git log\n",
    "# Cambiar a branch \"NuevaRama\"\n",
    "%sx git checkout NuevaRama\n",
    "# Nueva línea en archivo_de_prueba.txt\n",
    "%sx echo Perros >> archivo_de_prueba.txt\n",
    "# Agregar a staging area\n",
    "%sx git add -A\n",
    "# Nuevo commit\n",
    "%sx git commit -m \"feat: Agregar perros.\"\n",
    "\n",
    "#  2. Enviarlo al repositorio remoto\n",
    "%sx git push\n",
    "\n",
    "# Ver historial (notar que NuevaRama y origin/NuevaRama apuntan al mismo commit pues repositorio remoto está actualizado)\n",
    "%sx git log --all --oneline --graph --decorate"
   ]
  },
  {
   "cell_type": "code",
   "execution_count": 65,
   "id": "transsexual-union",
   "metadata": {},
   "outputs": [
    {
     "name": "stdout",
     "output_type": "stream",
     "text": [
      "C:\\Users\\Dany\\Documents\\01 Dany\\Maestría\\Python para ciencia de datos\\python-ciencia-de-datos\\Tarea 2 - git y control de versiones\n",
      "C:\\Users\\Dany\\Documents\\01 Dany\\Maestría\\Python para ciencia de datos\\python-ciencia-de-datos\\Tarea 2 - git y control de versiones\\_nuevo_repositorio_test_\n"
     ]
    },
    {
     "data": {
      "text/plain": [
       "['* 02d7896 (HEAD -> NuevaRama, origin/NuevaRama) Agregar libros a listado.',\n",
       " '* b3f3017 (origin/master, master) Agregar agua a listado.',\n",
       " '* bfb7aeb Nueva lÃ\\xadnea ingresada.',\n",
       " '* 8ef5d04 Nuevo archivo en repositorio.']"
      ]
     },
     "execution_count": 65,
     "metadata": {},
     "output_type": "execute_result"
    }
   ],
   "source": [
    "#  3. Ir a previo repositorio y observar historial con git log (ver que no aparece último cambio enviado a repositorio remoto)\n",
    "# Ir a directorio padre\n",
    "%cd ..\n",
    "# Ir a directorio anterior\n",
    "%cd _nuevo_repositorio_test_\n",
    "# Ver historial (notar que no aparecen últimos cambios enviados a repositorio remoto)\n",
    "%sx git log --all --oneline --graph --decorate"
   ]
  },
  {
   "cell_type": "code",
   "execution_count": 66,
   "id": "sharing-quilt",
   "metadata": {},
   "outputs": [
    {
     "data": {
      "text/plain": [
       "['* 04808e8 (origin/NuevaRama) feat: Agregar perros.',\n",
       " '* 02d7896 (HEAD -> NuevaRama) Agregar libros a listado.',\n",
       " '* b3f3017 (origin/master, master) Agregar agua a listado.',\n",
       " '* bfb7aeb Nueva lÃ\\xadnea ingresada.',\n",
       " '* 8ef5d04 Nuevo archivo en repositorio.']"
      ]
     },
     "execution_count": 66,
     "metadata": {},
     "output_type": "execute_result"
    }
   ],
   "source": [
    "#  4. Realizar git fetch y observar que el nuevo cambio aparece, pero que HEAD no ha cambiado (es decir, contenido de archivos no ha cambiado).\n",
    "# Obtener últimos cambios de repositorio remoto sin cambiar HEAD.\n",
    "%sx git fetch\n",
    "\n",
    "# Ver historial (notar que HEAD y NuevaRama local no se encuentran en último commit aún.)\n",
    "%sx git log --all --oneline --graph --decorate"
   ]
  },
  {
   "cell_type": "code",
   "execution_count": 67,
   "id": "stylish-certification",
   "metadata": {},
   "outputs": [
    {
     "data": {
      "text/plain": [
       "['Listado de cosas: ', 'Sol ', 'Campo ', 'Agua ', 'Libros ']"
      ]
     },
     "execution_count": 67,
     "metadata": {},
     "output_type": "execute_result"
    }
   ],
   "source": [
    "#  5. Observar contenido de archivo_de_prueba.txt después de fetch. (Notar que aún no aparece la nueva línea \"Perros\")\n",
    "%sx cat archivo_de_prueba.txt"
   ]
  },
  {
   "cell_type": "markdown",
   "id": "outstanding-variable",
   "metadata": {},
   "source": [
    "### 15. git pull\n",
    "Obtiene todos los cambios de un repositorio y cambia el directorio actual. (Cambia HEAD)."
   ]
  },
  {
   "cell_type": "code",
   "execution_count": 68,
   "id": "speaking-layout",
   "metadata": {},
   "outputs": [
    {
     "data": {
      "text/plain": [
       "['* 04808e8 (HEAD -> NuevaRama, origin/NuevaRama) feat: Agregar perros.',\n",
       " '* 02d7896 Agregar libros a listado.',\n",
       " '* b3f3017 (origin/master, master) Agregar agua a listado.',\n",
       " '* bfb7aeb Nueva lÃ\\xadnea ingresada.',\n",
       " '* 8ef5d04 Nuevo archivo en repositorio.']"
      ]
     },
     "execution_count": 68,
     "metadata": {},
     "output_type": "execute_result"
    }
   ],
   "source": [
    "# Realizamos git pull para cambiar el directorio\n",
    "%sx git pull\n",
    "# Vemos historial para observar que HEAD ha cambiado.\n",
    "%sx git log --all --oneline --graph --decorate"
   ]
  },
  {
   "cell_type": "code",
   "execution_count": 69,
   "id": "subtle-telescope",
   "metadata": {},
   "outputs": [
    {
     "data": {
      "text/plain": [
       "['Listado de cosas: ', 'Sol ', 'Campo ', 'Agua ', 'Libros ', 'Perros ']"
      ]
     },
     "execution_count": 69,
     "metadata": {},
     "output_type": "execute_result"
    }
   ],
   "source": [
    "# Observamos que el contenido de archivo_de_prueba.txt también ha cambiado\n",
    "%sx cat archivo_de_prueba.txt"
   ]
  },
  {
   "cell_type": "markdown",
   "id": "radical-burlington",
   "metadata": {},
   "source": [
    "## Comentarios personales\n",
    "\n",
    "* He logrado reconocer las diferencias entre los comandos `git merge` y `git rebase` y cómo pueden utilizarse en diferentes estrategias de versionamiento para proyectos.\n",
    "* Comprendo de mejor manera como el manejo de HEAD para determinar la parte del historial de git en que me encuentro y cómo esto afecta directamente el contenido de los archivos.\n",
    "* La práctica de los comandos de git me ha dado mayor confianza en el uso de los mismos en futuros proyectos."
   ]
  },
  {
   "cell_type": "markdown",
   "id": "important-england",
   "metadata": {},
   "source": [
    "## Conclusiones\n",
    "\n",
    "* Conocer el modelo de datos de git (_trees, blobs,_ objetos, referencias) y cómo git maneja todos los _commits_ como un grafo acíclico dirigido, ayuda a comprender más fácilmente cada uno de los comandos de git, que fundamentalmente realizan operaciones dentro de este grafo a los distintos objetos.\n",
    "* git es un sistema de versionamiento bastante flexible que nos ayuda a responder preguntas importantes en cuanto al manejo de versiones: ¿Qué? ¿Quién? ¿Cuándo? ¿Por qué? y que potencia la colaboración entre un equipo de proyecto.\n",
    "* git nos permite determinar, por medio de un _staging area_, qué deseamos incluir en cada _commit_ (instantánea de los contenidos de un proyecto en un momento específico).\n",
    "* El uso y manejo de repositorios remotos es una gran herramienta de colaboración; además de brindar el beneficio extra de tener copias del repositorio en diversos computadoras."
   ]
  }
 ],
 "metadata": {
  "kernelspec": {
   "display_name": "Python 3",
   "language": "python",
   "name": "python3"
  },
  "language_info": {
   "codemirror_mode": {
    "name": "ipython",
    "version": 3
   },
   "file_extension": ".py",
   "mimetype": "text/x-python",
   "name": "python",
   "nbconvert_exporter": "python",
   "pygments_lexer": "ipython3",
   "version": "3.8.5"
  }
 },
 "nbformat": 4,
 "nbformat_minor": 5
}
