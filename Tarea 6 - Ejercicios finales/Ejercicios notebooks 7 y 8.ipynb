{
 "cells": [
  {
   "cell_type": "markdown",
   "id": "increasing-attribute",
   "metadata": {},
   "source": [
    "# Ejercicios de notebooks 7 y 8: Numpy y álgebra lineal\n",
    "\n",
    "**Curso:** Ciencia de Datos en Python\n",
    "\n",
    "**Catedrático:** Ing. Luis Leal\n",
    "\n",
    "**Estudiante:** Dany Rafael Díaz Lux (21000864)\n",
    "\n",
    "**Instrucciones:** Resolver ejercicios indicados en los notebooks 7 y 8: Numpy y álgebra lineal.\n",
    "\n",
    "**Fecha de entrega:** 14 de abril de 2021"
   ]
  },
  {
   "cell_type": "markdown",
   "id": "linear-affect",
   "metadata": {},
   "source": [
    "## Ejercicio 1\n",
    "Investigar y ejemplificar diferencias entre np.array y np.matrix"
   ]
  },
  {
   "cell_type": "markdown",
   "id": "qualified-sender",
   "metadata": {},
   "source": [
    "### Diferencias entre numpy.array y numpy.matrix:\n",
    "Numpy contiene la clase **array** y **matrix**; la clase **array** es de propósito general para la creación y computación numérica de arreglos de N dimensiones, mientras que **matrix** tiene la finalidad de facilitar computación de álgebra lineal para arreglos de 2 dimensiones.\n",
    "\n",
    "Algunas diferencias específicas son:\n",
    "\n",
    "### a. Operador *:\n",
    "Para los arreglos creados con *numpy.array*, el operador de multiplicación elemento a elemento es asterisco ( * ); mientras que para arreglos creados con *numpy.matrix* actúa como multiplicación de matricial. Ejemplo:"
   ]
  },
  {
   "cell_type": "code",
   "execution_count": 31,
   "id": "qualified-asian",
   "metadata": {},
   "outputs": [],
   "source": [
    "# Importar numpy\n",
    "import numpy as np"
   ]
  },
  {
   "cell_type": "code",
   "execution_count": 32,
   "id": "passing-suicide",
   "metadata": {},
   "outputs": [
    {
     "name": "stdout",
     "output_type": "stream",
     "text": [
      "resultado arr1 * arr2 (element wise en np.array)\n",
      "[[ 5 12]\n",
      " [21 32]]\n",
      "resultado mat1 * mat2 (multiplicación matricial en np.matrix)\n",
      "[[19 22]\n",
      " [43 50]]\n"
     ]
    }
   ],
   "source": [
    "# Arreglos creados con numpy.array\n",
    "arr1 = np.array([[1,2], [3,4]])\n",
    "arr2 = np.array([[5,6], [7,8]])\n",
    "\n",
    "# Arreglos creados con numpy.matrix\n",
    "mat1 = np.matrix([[1,2], [3,4]])\n",
    "mat2 = np.matrix([[5,6], [7,8]])\n",
    "\n",
    "# Mostrar diferencias entre operadores\n",
    "print('resultado arr1 * arr2 (element wise en np.array)')\n",
    "print(arr1*arr2)\n",
    "print('resultado mat1 * mat2 (multiplicación matricial en np.matrix)')\n",
    "print(mat1 * mat2)"
   ]
  },
  {
   "cell_type": "markdown",
   "id": "fatty-calculation",
   "metadata": {},
   "source": [
    "### b. Atributos especiales:\n",
    "Para arreglos creados con *numpy.array* se cuenta con el atributo *.T* que devuelve el arreglo transpuesto, mientras que para los arreglos creados con *numpy.matrix* además de *.T* se cuenta con otros atributos extras: *.I* que devuelve la matriz inversa, *.A* que devuelve la matriz como un arreglo de tipo *numpy.array*. Ejemplo:"
   ]
  },
  {
   "cell_type": "code",
   "execution_count": 33,
   "id": "brilliant-shakespeare",
   "metadata": {},
   "outputs": [
    {
     "name": "stdout",
     "output_type": "stream",
     "text": [
      "arr1:\n",
      "[[1 2]\n",
      " [3 4]]\n",
      "arr1.T:\n",
      "[[1 3]\n",
      " [2 4]]\n"
     ]
    }
   ],
   "source": [
    "# Atributo de arr1\n",
    "print('arr1:')\n",
    "print(arr1)\n",
    "print('arr1.T:')\n",
    "print(arr1.T)"
   ]
  },
  {
   "cell_type": "code",
   "execution_count": 34,
   "id": "governing-passport",
   "metadata": {},
   "outputs": [
    {
     "name": "stdout",
     "output_type": "stream",
     "text": [
      "mat1:\n",
      "[[1 2]\n",
      " [3 4]]\n",
      "mat1.T\n",
      "[[1 3]\n",
      " [2 4]]\n",
      "mat1.I\n",
      "[[-2.   1. ]\n",
      " [ 1.5 -0.5]]\n",
      "type(mat1), type(mat1.A)\n",
      "<class 'numpy.matrix'> , <class 'numpy.ndarray'>\n"
     ]
    }
   ],
   "source": [
    "# Atributos de mat1\n",
    "print('mat1:')\n",
    "print(mat1)\n",
    "print('mat1.T')\n",
    "print(mat1.T)\n",
    "print('mat1.I')\n",
    "print(mat1.I)\n",
    "print('type(mat1), type(mat1.A)')\n",
    "print(type(mat1), ',', type(mat1.A))"
   ]
  },
  {
   "cell_type": "markdown",
   "id": "enclosed-snapshot",
   "metadata": {},
   "source": [
    "### c. Constructores:\n",
    "Mientras que *numpy.array* toma listas para inicializar sus arreglos, *numpy.matrix* puede tomar además cadenas como inicializadores. Ejemplo:"
   ]
  },
  {
   "cell_type": "code",
   "execution_count": 35,
   "id": "contained-sailing",
   "metadata": {},
   "outputs": [
    {
     "name": "stdout",
     "output_type": "stream",
     "text": [
      "arr3\n",
      "[[1 1]\n",
      " [2 2]]\n",
      "mat3\n",
      "[[1 1]\n",
      " [2 2]]\n"
     ]
    }
   ],
   "source": [
    "# Creación de un arreglo solo con listas\n",
    "arr3 = np.array([[1, 1], [2, 2]])\n",
    "\n",
    "# Creación con una cadena de texto\n",
    "mat3 = np.matrix('[1 1; 2 2]')\n",
    "\n",
    "print('arr3')\n",
    "print(arr3)\n",
    "print('mat3')\n",
    "print(mat3)"
   ]
  },
  {
   "cell_type": "markdown",
   "id": "potential-hepatitis",
   "metadata": {},
   "source": [
    "## Ejercicio 2\n",
    "\n",
    "Implementar en una funcion neural_network(X) la red neuronal definida por la siguiente arquitectura:\n",
    "\n",
    "<img src=\"http://i.imgur.com/UNlffE1.png\">\n",
    "\n",
    "Podemos validar si fue correctamente implementada si usamos como entrada el vector x=[1,1] . Debemos obtener el resultado mostrado en la imagen.\n",
    "\n",
    "Luego evaluar la red neuronal sobre la matriz de datos X(de manera vectorizada):"
   ]
  },
  {
   "cell_type": "code",
   "execution_count": 36,
   "id": "split-method",
   "metadata": {},
   "outputs": [],
   "source": [
    "def sigmoid(x): #convertir los valores de x al rango de 0 a 1\n",
    "    return 1/(1+np.exp(-x))"
   ]
  },
  {
   "cell_type": "code",
   "execution_count": 37,
   "id": "worthy-living",
   "metadata": {},
   "outputs": [],
   "source": [
    "def neural_network(x):\n",
    "    HL = np.array([[0.712, 0.355, 0.268], [0.112, 0.855, 0.468]])\n",
    "    OL = np.array([[0.116], [0.329], [0.708]])\n",
    "    \n",
    "    xHL = np.matmul(x,HL)\n",
    "    xHL = sigmoid(xHL)\n",
    "    \n",
    "    xOL = np.matmul(xHL, OL)\n",
    "    xOL = sigmoid(xOL)\n",
    "    \n",
    "    return xOL"
   ]
  },
  {
   "cell_type": "code",
   "execution_count": 38,
   "id": "hindu-highway",
   "metadata": {},
   "outputs": [],
   "source": [
    "X = np.array([\n",
    "    [0.1,2],\n",
    "    [0.3,0.45],\n",
    "    [5,9],\n",
    "    [12,6],\n",
    "    [7,5],\n",
    "    [0.3,0.8],\n",
    "    [12,5],\n",
    "    [100,200],\n",
    "    [7,8],\n",
    "    [300,1500]])"
   ]
  },
  {
   "cell_type": "code",
   "execution_count": 39,
   "id": "convertible-warren",
   "metadata": {},
   "outputs": [
    {
     "data": {
      "text/plain": [
       "array([[0.70244573],\n",
       "       [0.66259284],\n",
       "       [0.75933678],\n",
       "       [0.75973948],\n",
       "       [0.75802295],\n",
       "       [0.6739704 ],\n",
       "       [0.75954693],\n",
       "       [0.76005845],\n",
       "       [0.75952743],\n",
       "       [0.76005845]])"
      ]
     },
     "execution_count": 39,
     "metadata": {},
     "output_type": "execute_result"
    }
   ],
   "source": [
    "neural_network(X)"
   ]
  }
 ],
 "metadata": {
  "kernelspec": {
   "display_name": "Python 3",
   "language": "python",
   "name": "python3"
  },
  "language_info": {
   "codemirror_mode": {
    "name": "ipython",
    "version": 3
   },
   "file_extension": ".py",
   "mimetype": "text/x-python",
   "name": "python",
   "nbconvert_exporter": "python",
   "pygments_lexer": "ipython3",
   "version": "3.8.5"
  }
 },
 "nbformat": 4,
 "nbformat_minor": 5
}
