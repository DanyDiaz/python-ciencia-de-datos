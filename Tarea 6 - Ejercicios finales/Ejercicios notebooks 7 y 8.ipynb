{
 "cells": [
  {
   "cell_type": "markdown",
   "id": "phantom-cabin",
   "metadata": {},
   "source": [
    "# Ejercicios de notebooks 7 y 8: Numpy y álgebra lineal\n",
    "\n",
    "**Curso:** Ciencia de Datos en Python\n",
    "\n",
    "**Catedrático:** Ing. Luis Leal\n",
    "\n",
    "**Estudiante:** Dany Rafael Díaz Lux (21000864)\n",
    "\n",
    "**Instrucciones:** Resolver ejercicios indicados en los notebooks 7 y 8: Numpy y álgebra lineal.\n",
    "\n",
    "**Fecha de entrega:** 14 de abril de 2021"
   ]
  },
  {
   "cell_type": "markdown",
   "id": "ceramic-schema",
   "metadata": {},
   "source": [
    "**1. Ejercicio**: Investigar y ejemplificar diferencias entre np.array y np.matrix"
   ]
  },
  {
   "cell_type": "markdown",
   "id": "animal-dominant",
   "metadata": {},
   "source": [
    "## Diferencias entre numpy.array y numpy.matrix:\n",
    "Numpy contiene la clase **array** y **matrix**; la clase **array** es de propósito general para la creación y computación numérica de arreglos de N dimensiones, mientras que **matrix** tiene la finalidad de facilitar computación de álgebra lineal para arreglos de 2 dimensiones.\n",
    "\n",
    "Algunas diferencias específicas son:\n",
    "\n",
    "### a. Operador *:\n",
    "Para los arreglos creados con *numpy.array*, el operador de multiplicación elemento a elemento es asterisco ( * ); mientras que para arreglos creados con *numpy.matrix* actúa como multiplicación de matricial. Ejemplo:"
   ]
  },
  {
   "cell_type": "code",
   "execution_count": 2,
   "id": "sought-georgia",
   "metadata": {},
   "outputs": [],
   "source": [
    "# Importar numpy\n",
    "import numpy as np"
   ]
  },
  {
   "cell_type": "code",
   "execution_count": 9,
   "id": "established-cameroon",
   "metadata": {},
   "outputs": [
    {
     "name": "stdout",
     "output_type": "stream",
     "text": [
      "resultado arr1 * arr2 (element wise en np.array)\n",
      "[[ 5 12]\n",
      " [21 32]]\n",
      "resultado mat1 * mat2 (multiplicación matricial en np.matrix)\n",
      "[[19 22]\n",
      " [43 50]]\n"
     ]
    }
   ],
   "source": [
    "# Arreglos creados con numpy.array\n",
    "arr1 = np.array([[1,2], [3,4]])\n",
    "arr2 = np.array([[5,6], [7,8]])\n",
    "\n",
    "# Arreglos creados con numpy.matrix\n",
    "mat1 = np.matrix([[1,2], [3,4]])\n",
    "mat2 = np.matrix([[5,6], [7,8]])\n",
    "\n",
    "# Mostrar diferencias entre operadores\n",
    "print('resultado arr1 * arr2 (element wise en np.array)')\n",
    "print(arr1*arr2)\n",
    "print('resultado mat1 * mat2 (multiplicación matricial en np.matrix)')\n",
    "print(mat1 * mat2)"
   ]
  },
  {
   "cell_type": "markdown",
   "id": "independent-electricity",
   "metadata": {},
   "source": [
    "### b. Atributos especiales:\n",
    "Para arreglos creados con *numpy.array* se cuenta con el atributo *.T* que devuelve el arreglo transpuesto, mientras que para los arreglos creados con *numpy.matrix* además de *.T* se cuenta con otros atributos extras: *.I* que devuelve la matriz inversa, *.A* que devuelve la matriz como un arreglo de tipo *numpy.array*. Ejemplo:"
   ]
  },
  {
   "cell_type": "code",
   "execution_count": 14,
   "id": "heard-conviction",
   "metadata": {},
   "outputs": [
    {
     "name": "stdout",
     "output_type": "stream",
     "text": [
      "arr1: \n",
      "[[1 2]\n",
      " [3 4]]\n",
      "arr1.T\n",
      "[[1 3]\n",
      " [2 4]]\n"
     ]
    }
   ],
   "source": [
    "# Atributo de arr1\n",
    "print('arr1:')\n",
    "print(arr1)\n",
    "print('arr1.T:')\n",
    "print(arr1.T)"
   ]
  },
  {
   "cell_type": "code",
   "execution_count": 19,
   "id": "intellectual-phrase",
   "metadata": {},
   "outputs": [
    {
     "name": "stdout",
     "output_type": "stream",
     "text": [
      "mat1:\n",
      "[[1 2]\n",
      " [3 4]]\n",
      "mat1.T\n",
      "[[1 3]\n",
      " [2 4]]\n",
      "mat1.I\n",
      "[[-2.   1. ]\n",
      " [ 1.5 -0.5]]\n",
      "type(mat1), type(mat1.A)\n",
      "<class 'numpy.matrix'> , <class 'numpy.ndarray'>\n"
     ]
    }
   ],
   "source": [
    "# Atributos de mat1\n",
    "print('mat1:')\n",
    "print(mat1)\n",
    "print('mat1.T')\n",
    "print(mat1.T)\n",
    "print('mat1.I')\n",
    "print(mat1.I)\n",
    "print('type(mat1), type(mat1.A)')\n",
    "print(type(mat1), ',', type(mat1.A))"
   ]
  },
  {
   "cell_type": "markdown",
   "id": "electronic-march",
   "metadata": {},
   "source": [
    "### c. Constructores:\n",
    "Mientras que *numpy.array* toma listas para inicializar sus arreglos, *numpy.matrix* puede tomar además cadenas como inicializadores. Ejemplo:"
   ]
  },
  {
   "cell_type": "code",
   "execution_count": 22,
   "id": "renewable-interpretation",
   "metadata": {},
   "outputs": [
    {
     "name": "stdout",
     "output_type": "stream",
     "text": [
      "arr3\n",
      "[[1 1]\n",
      " [2 2]]\n",
      "mat3\n",
      "[[1 1]\n",
      " [2 2]]\n"
     ]
    }
   ],
   "source": [
    "# Creación de un arreglo solo con listas\n",
    "arr3 = np.array([[1, 1], [2, 2]])\n",
    "\n",
    "# Creación con una cadena de texto\n",
    "mat3 = np.matrix('[1 1; 2 2]')\n",
    "\n",
    "print('arr3')\n",
    "print(arr3)\n",
    "print('mat3')\n",
    "print(mat3)"
   ]
  },
  {
   "cell_type": "markdown",
   "id": "coordinated-contractor",
   "metadata": {},
   "source": []
  }
 ],
 "metadata": {
  "kernelspec": {
   "display_name": "Python 3",
   "language": "python",
   "name": "python3"
  },
  "language_info": {
   "codemirror_mode": {
    "name": "ipython",
    "version": 3
   },
   "file_extension": ".py",
   "mimetype": "text/x-python",
   "name": "python",
   "nbconvert_exporter": "python",
   "pygments_lexer": "ipython3",
   "version": "3.8.5"
  }
 },
 "nbformat": 4,
 "nbformat_minor": 5
}
