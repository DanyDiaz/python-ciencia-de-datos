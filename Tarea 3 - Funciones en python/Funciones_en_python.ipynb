{
 "cells": [
  {
   "cell_type": "markdown",
   "id": "adopted-livestock",
   "metadata": {},
   "source": [
    "# Funciones en Python\n",
    "\n",
    "**Curso:** Ciencia de Datos en Python\n",
    "\n",
    "**Catedrático:** Ing. Luis Leal\n",
    "\n",
    "**Estudiante:** Dany Rafael Díaz Lux (21000864)\n",
    "\n",
    "**Enunciado:** Investigar:\n",
    "- Funciones en Python\n",
    "- Parámetros posisionales\n",
    "- Parámetros nombrados\n",
    "- Retorno de múltiples valores\n",
    "- Funciones como objetos y como parametros de otras funciones\n",
    "- Funciones anónimas o lambda\n",
    "\n",
    "Entrega: Jupyter notebook explicando bajo tus conclusiones cada uno de estos puntos ejemplificando un caso de uso.\n",
    "\n",
    "**Fecha de entrega:** Lunes, 22 de febrero 2021."
   ]
  },
  {
   "cell_type": "markdown",
   "id": "ecological-eleven",
   "metadata": {},
   "source": [
    "## Funciones en Python\n",
    "\n",
    "Es un conjunto de sentencias que deberían realizar una tarea específica, y que nos da un resultado de su procesamiento. A este conjunto de sentencias le podemos definir un nombre y posibles datos de entrada que podrá recibir (parámetros).\n",
    "\n",
    "### Definición de una función\n",
    "La sintaxis para definir una función en Python es la siguiente:  \n",
    "**def** nombre_de_la_funcion(parametros):  \n",
    "&nbsp;&nbsp;&nbsp;&nbsp;&nbsp;&nbsp;\"\"\"cadena de documentación de la función\"\"\"  \n",
    "&nbsp;&nbsp;&nbsp;&nbsp;&nbsp;&nbsp;sentencias  \n",
    "&nbsp;&nbsp;&nbsp;&nbsp;&nbsp;&nbsp;**return** resultado  \n",
    "\n",
    "Donde:\n",
    "- **def**: es la palabra reservada para iniciar la definición de una función.\n",
    "- **nombre_de_la_funcion**: es el nombre que le daremos a la función.\n",
    "- **parametros**: es la lista de parámetros como datos de entrada que podrá recibir la función.\n",
    "- **\"\"\"cadena de documentación de la función\"\"\"**: será la cadena (_string_) de documentación que aparecerá si el usuario ejecuta la sentencia: _help(nombre_de_la_funcion)_.\n",
    "- **sentencias**: Todas las sentencias que formarán parte de la función. Deben tener la identación apropiada para formar parte de la función.\n",
    "- **return**: palabra reservada que servirá para devolver el resultado de la función. Debe ser la última sentencia de la función.\n",
    "- **resultado**: debe ser un valor u objeto que se devuelve como fruto del procesamiento de las sentencias de la función.\n",
    "\n",
    "### Ejecución de una función\n",
    "Para poder ejecutar una función, debemos escribir su nombre y entre paréntesis una lista de argumentos, que es la información que deseamos enviar. La lista de argumentos es opcional, pero los paréntesis son necesarios para la ejecución de la función.\n",
    "\n",
    "Este nombre, paréntesis y lista opcional de argumentos devolverá un resultado; y como tal podrá ser utilizado en cualquier cálculo o proceso que deseemos.\n",
    "\n",
    "Ejemplo:"
   ]
  },
  {
   "cell_type": "code",
   "execution_count": 1,
   "id": "inside-peripheral",
   "metadata": {},
   "outputs": [],
   "source": [
    "##Definición de una función que cálcula el factorial de un número\n",
    "def factorial(numero = 0):\n",
    "    \"\"\"Definición de una función que cálcula el factorial de un número. Por defecto calculará el factorial de cero = 1.\"\"\"\n",
    "    if numero < 0:\n",
    "        return 0\n",
    "    elif numero == 0:\n",
    "        return 1\n",
    "    \n",
    "    resultado = 1\n",
    "    while numero > 1:\n",
    "        resultado *= numero\n",
    "        numero -= 1\n",
    "        \n",
    "    return resultado"
   ]
  },
  {
   "cell_type": "code",
   "execution_count": 4,
   "id": "vertical-withdrawal",
   "metadata": {},
   "outputs": [
    {
     "name": "stdout",
     "output_type": "stream",
     "text": [
      "Help on function factorial in module __main__:\n",
      "\n",
      "factorial(numero=0)\n",
      "    Definición de una función que cálcula el factorial de un número. Por defecto calculará el factorial de cero = 1.\n",
      "\n"
     ]
    }
   ],
   "source": [
    "#Mostrar cadena de documentación de la función\n",
    "help(factorial)"
   ]
  },
  {
   "cell_type": "code",
   "execution_count": 5,
   "id": "imperial-titanium",
   "metadata": {},
   "outputs": [
    {
     "name": "stdout",
     "output_type": "stream",
     "text": [
      "1\n"
     ]
    }
   ],
   "source": [
    "#Ejecución de la función \"factorial\" sin enviar ningún argumento\n",
    "print(factorial())"
   ]
  },
  {
   "cell_type": "code",
   "execution_count": 6,
   "id": "communist-egypt",
   "metadata": {},
   "outputs": [
    {
     "name": "stdout",
     "output_type": "stream",
     "text": [
      "240\n"
     ]
    }
   ],
   "source": [
    "#Uso de la función en cálculos: se multiplica el factorial de 5 por 2\n",
    "resultado = factorial(5) * 2\n",
    "print(resultado)"
   ]
  },
  {
   "cell_type": "markdown",
   "id": "prostate-judge",
   "metadata": {},
   "source": [
    "## Parámetros posisionales"
   ]
  },
  {
   "cell_type": "markdown",
   "id": "collect-attack",
   "metadata": {},
   "source": [
    "## Parámetros nombrados"
   ]
  },
  {
   "cell_type": "markdown",
   "id": "engaging-german",
   "metadata": {},
   "source": [
    "## Retorno de múltiples valores"
   ]
  },
  {
   "cell_type": "markdown",
   "id": "featured-resolution",
   "metadata": {},
   "source": [
    "## Funciones como objetos y como parametros de otras funciones"
   ]
  },
  {
   "cell_type": "markdown",
   "id": "dated-junction",
   "metadata": {},
   "source": [
    "## Funciones anónimas o lambda"
   ]
  }
 ],
 "metadata": {
  "kernelspec": {
   "display_name": "Python 3",
   "language": "python",
   "name": "python3"
  },
  "language_info": {
   "codemirror_mode": {
    "name": "ipython",
    "version": 3
   },
   "file_extension": ".py",
   "mimetype": "text/x-python",
   "name": "python",
   "nbconvert_exporter": "python",
   "pygments_lexer": "ipython3",
   "version": "3.8.5"
  }
 },
 "nbformat": 4,
 "nbformat_minor": 5
}
