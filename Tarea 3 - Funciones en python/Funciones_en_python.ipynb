{
 "cells": [
  {
   "cell_type": "markdown",
   "id": "racial-conditions",
   "metadata": {},
   "source": [
    "# Funciones en Python\n",
    "\n",
    "**Curso:** Ciencia de Datos en Python\n",
    "\n",
    "**Catedrático:** Ing. Luis Leal\n",
    "\n",
    "**Estudiante:** Dany Rafael Díaz Lux (21000864)\n",
    "\n",
    "**Enunciado:** Investigar:\n",
    "- Funciones en Python\n",
    "- Parámetros posicionales\n",
    "- Parámetros nombrados\n",
    "- Retorno de múltiples valores\n",
    "- Funciones como objetos y como parámetros de otras funciones\n",
    "- Funciones anónimas o lambda\n",
    "\n",
    "Entrega: Jupyter notebook explicando bajo tus conclusiones cada uno de estos puntos ejemplificando un caso de uso.\n",
    "\n",
    "**Fecha de entrega:** Lunes, 22 de febrero 2021."
   ]
  },
  {
   "cell_type": "markdown",
   "id": "chief-giving",
   "metadata": {},
   "source": [
    "## Funciones en Python\n",
    "\n",
    "Es un conjunto de sentencias que deberían realizar una tarea específica, y que nos da un resultado de su procesamiento. A este conjunto de sentencias le podemos definir un nombre y posibles datos de entrada que podrá recibir (parámetros).\n",
    "\n",
    "### Definición de una función\n",
    "La sintaxis para definir una función en Python es la siguiente:  \n",
    "**def** nombre_de_la_funcion(parametros):  \n",
    "&nbsp;&nbsp;&nbsp;&nbsp;&nbsp;&nbsp;\"\"\"cadena de documentación de la función\"\"\"  \n",
    "&nbsp;&nbsp;&nbsp;&nbsp;&nbsp;&nbsp;sentencias  \n",
    "&nbsp;&nbsp;&nbsp;&nbsp;&nbsp;&nbsp;**return** resultado  \n",
    "\n",
    "Donde:\n",
    "- **def**: es la palabra reservada para iniciar la definición de una función.\n",
    "- **nombre_de_la_funcion**: es el nombre que le daremos a la función.\n",
    "- **parametros**: es la lista de parámetros como datos de entrada que podrá recibir la función.\n",
    "- **\"\"\"cadena de documentación de la función\"\"\"**: será la cadena (_string_) de documentación que aparecerá si el usuario ejecuta la sentencia: _help(nombre_de_la_funcion)_.\n",
    "- **sentencias**: Todas las sentencias que formarán parte de la función. Deben tener la identación apropiada para formar parte de la función.\n",
    "- **return**: palabra reservada que servirá para devolver el resultado de la función. Debe ser la última sentencia de la función.\n",
    "- **resultado**: debe ser un valor u objeto que se devuelve como fruto del procesamiento de las sentencias de la función.\n",
    "\n",
    "### Ejecución de una función\n",
    "Para poder ejecutar una función, debemos escribir su nombre y entre paréntesis una lista de argumentos, que es la información que deseamos enviar. La lista de argumentos es opcional, pero los paréntesis son necesarios para la ejecución de la función.\n",
    "\n",
    "Este nombre, paréntesis y lista opcional de argumentos devolverá un resultado; y como tal podrá ser utilizado en cualquier cálculo o proceso que deseemos.\n",
    "\n",
    "Ejemplo:"
   ]
  },
  {
   "cell_type": "code",
   "execution_count": 7,
   "id": "bacterial-oracle",
   "metadata": {},
   "outputs": [],
   "source": [
    "#Definición de una función que cálcula el factorial de un número\n",
    "def factorial(numero = 0):\n",
    "    \"\"\"Función que cálcula el factorial de un número. En caso de información de entrada inválida se devolverá cero.\"\"\"\n",
    "    if numero < 0:\n",
    "        return 0\n",
    "    elif numero == 0:\n",
    "        return 1\n",
    "    \n",
    "    resultado = 1\n",
    "    while numero > 1:\n",
    "        resultado *= numero\n",
    "        numero -= 1\n",
    "        \n",
    "    return resultado"
   ]
  },
  {
   "cell_type": "code",
   "execution_count": 8,
   "id": "rapid-airfare",
   "metadata": {},
   "outputs": [
    {
     "name": "stdout",
     "output_type": "stream",
     "text": [
      "Help on function factorial in module __main__:\n",
      "\n",
      "factorial(numero=0)\n",
      "    Definición de una función que cálcula el factorial de un número. Por defecto calculará el factorial de cero = 1. En caso de información de entrada inválida se devolverá cero.\n",
      "\n"
     ]
    }
   ],
   "source": [
    "#Mostrar cadena de documentación de la función\n",
    "help(factorial)"
   ]
  },
  {
   "cell_type": "code",
   "execution_count": 9,
   "id": "saving-booth",
   "metadata": {},
   "outputs": [
    {
     "name": "stdout",
     "output_type": "stream",
     "text": [
      "1\n"
     ]
    }
   ],
   "source": [
    "#Ejecución de la función \"factorial\" sin enviar ningún argumento\n",
    "print(factorial())"
   ]
  },
  {
   "cell_type": "code",
   "execution_count": 10,
   "id": "intensive-glass",
   "metadata": {},
   "outputs": [
    {
     "name": "stdout",
     "output_type": "stream",
     "text": [
      "240\n"
     ]
    }
   ],
   "source": [
    "#Uso de la función en cálculos: se multiplica el factorial de 5 por 2\n",
    "resultado = factorial(5) * 2\n",
    "print(resultado)"
   ]
  },
  {
   "cell_type": "markdown",
   "id": "described-stupid",
   "metadata": {},
   "source": [
    "## Parámetros posicionales\n",
    "\n",
    "El valor que reciba cada parámetro definido en una función, será decidido por el orden en que se envían los argumentos al ejecutar la función.\n",
    "\n",
    "Por ejemplo:"
   ]
  },
  {
   "cell_type": "code",
   "execution_count": 11,
   "id": "banner-colorado",
   "metadata": {},
   "outputs": [],
   "source": [
    "#Definición de función \"division_entera\", se definen los parámetros en el siguiente orden: dividendo orden cero, divisor orden 1.\n",
    "def division_entera(dividendo, divisor):\n",
    "    \"\"\"División entera de dividendo (primer parámetro) entre divisor (segundo parámetro). Si el divisor es cero, se devuelve error.\"\"\"\n",
    "    if divisor == 0:\n",
    "        print(\"Error división entre cero.\")\n",
    "        return\n",
    "    return dividendo // divisor\n"
   ]
  },
  {
   "cell_type": "code",
   "execution_count": 13,
   "id": "equal-moscow",
   "metadata": {},
   "outputs": [
    {
     "name": "stdout",
     "output_type": "stream",
     "text": [
      "El cociente de 10 entre 4 es: 2\n",
      "El cociente de 4 entre 10 es: 0\n",
      "Error división entre cero.\n",
      "El cociente de 8 entre 0 es: None\n"
     ]
    }
   ],
   "source": [
    "#Ejecución de la función \"division_entera\". El primer valor enviado será el \"dividendo\" y el segundo el \"divisor\"\n",
    "print(\"El cociente de 10 entre 4 es:\", division_entera(10,4))\n",
    "print(\"El cociente de 4 entre 10 es:\", division_entera(4,10))\n",
    "print(\"El cociente de 8 entre 0 es:\", division_entera(8,0))"
   ]
  },
  {
   "cell_type": "markdown",
   "id": "collected-yugoslavia",
   "metadata": {},
   "source": [
    "## Parámetros nombrados\n",
    "\n",
    "Se puede evitar utilizar el orden en que se envían los argumentos para asignar los valores a los parámetros si indicamos el nombre del parámetro.\n",
    "\n",
    "Por ejemplo:"
   ]
  },
  {
   "cell_type": "code",
   "execution_count": 15,
   "id": "practical-walnut",
   "metadata": {},
   "outputs": [
    {
     "name": "stdout",
     "output_type": "stream",
     "text": [
      "El cociente de 10 entre 4 es: 2\n",
      "El cociente de 4 entre 10 es: 0\n",
      "Error división entre cero.\n",
      "El cociente de 8 entre 0 es: None\n"
     ]
    }
   ],
   "source": [
    "#Para la misma función \"division_entera\" definida anteriormente, \n",
    "#podemos indicar el valor que recibirá cada parámetro por el nombre sin importar el orden\n",
    "print(\"El cociente de 10 entre 4 es:\", division_entera(divisor=4,dividendo=10))\n",
    "print(\"El cociente de 4 entre 10 es:\", division_entera(divisor=10,dividendo=4))\n",
    "print(\"El cociente de 8 entre 0 es:\", division_entera(dividendo=8,divisor=0))"
   ]
  },
  {
   "cell_type": "markdown",
   "id": "embedded-sellers",
   "metadata": {},
   "source": [
    "## Retorno de múltiples valores\n",
    "\n",
    "En Python podemos devolver múltiples valores como resultado. Sólo debemos separar los valores por coma después de la palabra reservada **return**. Internamente Python unirá todos estos valores en una estructura llamada tupla (_tuple_). Es importante que a diferencia de las listas (_list_), las tuplas son estructuras inmutables, es decir, que no podemos modificar ninguno de los valores dentro de la tupla, sólo podremos consultarlos.\n",
    "\n",
    "Al ejecutar la función, podemos tomar los diferentes valores del resultado separando por comas las variables que tomarán los valores individuales; o también podemos tomar todos los valores en una sola variable que será de tipo tupla, y para acceder a cada valor tendremos que usar índices en dicha variable.\n",
    "\n",
    "Ejemplos:"
   ]
  },
  {
   "cell_type": "code",
   "execution_count": 16,
   "id": "joint-franchise",
   "metadata": {},
   "outputs": [],
   "source": [
    "# Definiendo de nuevo función \"division_entera\", pero esta vez devolveremos tanto el cociente como el residuo\n",
    "def division_entera(dividendo, divisor):\n",
    "    \"\"\"División entera de dividendo entre divisor. Devuelve tanto cociente como residuo. Si el divisor es cero, se devuelve error.\"\"\"\n",
    "    if divisor == 0:\n",
    "        return \"Error división entre cero.\"\n",
    "    \n",
    "    cociente = dividendo // divisor\n",
    "    residuo = dividendo % divisor\n",
    "    \n",
    "    return cociente, residuo"
   ]
  },
  {
   "cell_type": "code",
   "execution_count": 20,
   "id": "governmental-punch",
   "metadata": {},
   "outputs": [
    {
     "name": "stdout",
     "output_type": "stream",
     "text": [
      "El cociente y residuo de la división de 27 entre 4 son:  6 y 3 respectivamente.\n"
     ]
    }
   ],
   "source": [
    "# Realizando la \"division_entera\" de 27 entre 4, y asignando los valores cociente y residuo del resultado en la variables \"c\" y \"r\"\n",
    "c, r = division_entera(27,4)\n",
    "print(\"El cociente y residuo de la división de 27 entre 4 son: \", c, \"y\", r, \"respectivamente.\")"
   ]
  },
  {
   "cell_type": "code",
   "execution_count": 21,
   "id": "satellite-addition",
   "metadata": {},
   "outputs": [
    {
     "name": "stdout",
     "output_type": "stream",
     "text": [
      "El cociente de la división de 27 entre 4 es:  6\n",
      "El residuo de la división de 27 entre 4 es:  3\n"
     ]
    }
   ],
   "source": [
    "# Obteniendo los resultados en una sola variable para la división entera de 27 entre 4.\n",
    "resultados = division_entera(27,4)\n",
    "# Accediendo a los resultados por medio de índices. El primer elemento será el cociente y el segundo el residuo.\n",
    "print(\"El cociente de la división de 27 entre 4 es: \", resultados[0])\n",
    "print(\"El residuo de la división de 27 entre 4 es: \", resultados[1])"
   ]
  },
  {
   "cell_type": "markdown",
   "id": "organizational-electric",
   "metadata": {},
   "source": [
    "## Funciones como objetos y como parámetros de otras funciones\n",
    "\n",
    "En Python las funciones son objetos de primera clase (_first-class objects_) eso básicamente significa que pueden ser:\n",
    "- Dinámicamente creadas, destruidas o enviadas a otras funciones como parámetros.\n",
    "- El resultado devuelto desde otra función.\n",
    "- Asignadas a variables.\n",
    "- Guardadas en cualquier estructura de datos.\n",
    "\n",
    "Ejemplos:"
   ]
  },
  {
   "cell_type": "code",
   "execution_count": 22,
   "id": "welcome-alliance",
   "metadata": {},
   "outputs": [],
   "source": [
    "# 1. Asignar una función a una variable\n",
    "\n",
    "# Definición de función suma\n",
    "def suma(a = 0, b=0):\n",
    "    \"\"\"Función suma: Devuelva la suma de los dos parámetros enviados.\"\"\"\n",
    "    return a + b"
   ]
  },
  {
   "cell_type": "code",
   "execution_count": 24,
   "id": "noble-legend",
   "metadata": {},
   "outputs": [
    {
     "name": "stdout",
     "output_type": "stream",
     "text": [
      "La suma de los valores 8 y 3 es: 11\n"
     ]
    }
   ],
   "source": [
    "# La función suma puede ser asignada a una variable sin ningún problema\n",
    "unaVariable = suma\n",
    "\n",
    "# Esta variable, que guarda la definición de la función suma, podría ejecutarse sin problemas.\n",
    "print(\"La suma de los valores 8 y 3 es:\", unaVariable(8,3))"
   ]
  },
  {
   "cell_type": "code",
   "execution_count": 31,
   "id": "stretch-finance",
   "metadata": {},
   "outputs": [
    {
     "name": "stdout",
     "output_type": "stream",
     "text": [
      "La suma de 1 y 2 es: 3\n"
     ]
    }
   ],
   "source": [
    "# 2. Devolver una función como resultado de otra función\n",
    "\n",
    "# Definición de función que devolverá la función \"suma\" como resultado\n",
    "def obtenerFuncionSuma():\n",
    "    \"\"\"Función que devolverá la definición función suma.\"\"\"\n",
    "    return suma\n",
    "\n",
    "# Al ejecutar \"obtenerFuncionSuma\", obtendremos la función \"suma\" que puede ser ejecutada después\n",
    "otraVariable = obtenerFuncionSuma()\n",
    "print(\"La suma de 1 y 2 es:\", otraVariable(1,2))"
   ]
  },
  {
   "cell_type": "code",
   "execution_count": 30,
   "id": "engaged-european",
   "metadata": {},
   "outputs": [
    {
     "name": "stdout",
     "output_type": "stream",
     "text": [
      "La suma de 1 y 2 es: 3\n"
     ]
    }
   ],
   "source": [
    "# Otra forma de invocar a la función \"suma\" devuelta, es simplemente colocar nuevos parámetros que indican\n",
    "# la invocación de la función devuelta, sin necesidad de usar una variable.\n",
    "print(\"La suma de 1 y 2 es:\", obtenerFuncionSuma()(1,2))"
   ]
  },
  {
   "cell_type": "code",
   "execution_count": 32,
   "id": "introductory-volunteer",
   "metadata": {},
   "outputs": [
    {
     "name": "stdout",
     "output_type": "stream",
     "text": [
      "La suma de 5 y 2 es: 7\n"
     ]
    }
   ],
   "source": [
    "# 3 Enviar una función como parámetro\n",
    "\n",
    "# Definición de función que aceptará como parámetro otra función.\n",
    "def operadorGeneral(operacionAplicar, operando1, operando2):\n",
    "    \"\"\"Función que aplicará a los operandos la operación definida en la función recibida en su primer parámetro.\"\"\"\n",
    "    return operacionAplicar(operando1, operando2)\n",
    "\n",
    "# Al ejecutar la función \"operadorGeneral\" se aplica una suma pues fue la función enviada en su primer parámetro\n",
    "print(\"La suma de 5 y 2 es:\", operadorGeneral(suma, 5, 2))"
   ]
  },
  {
   "cell_type": "markdown",
   "id": "excessive-intersection",
   "metadata": {},
   "source": [
    "## Funciones anónimas o lambda\n",
    "\n",
    "Las funciones anónimas son aquellas que se definen sin nombre. En lugar de utilizar la palabra reservada **def**, se utiliza **lambda**. Es por eso que también se les podría denominar como funciones _lambda_.\n",
    "\n",
    "La sintaxis para definir una función anónima es:\n",
    "\n",
    "_**lambda** parámetros: expresión._\n",
    "\n",
    "Donde:\n",
    "- lambda: Es la palabra reservada para iniciar la definición de una función anónima.\n",
    "- parámetros: Es la lista de parámetros que aceptará la función anónima.\n",
    "- expresión: Es la parte que será evaluada y devuelta como resultado al ejecutarse la función anónima. Tomar en cuenta que una expresión no permitirá cualquier tipo de sentencia (como una estructura de control), sino que debe ser un valor que pueda ser evaluado y devuelto.\n",
    "\n",
    "Ejemplos:"
   ]
  },
  {
   "cell_type": "code",
   "execution_count": 33,
   "id": "fatty-tourist",
   "metadata": {},
   "outputs": [
    {
     "name": "stdout",
     "output_type": "stream",
     "text": [
      "La suma de 9 y 4 es: 13\n"
     ]
    }
   ],
   "source": [
    "# \"variable\" guarda la función anónima que recibe dos argumentos y devolverá como resultado la suma de ambos.\n",
    "# (Recordar que esta función se puede asignar a una variable porque las funciones son objetos en Python)\n",
    "variable = lambda sumando1, sumando2: sumando1 + sumando2\n",
    "\n",
    "# Si ahora ejecutamos \"variable\" devolverá la suma de los argumentos enviados\n",
    "print(\"La suma de 9 y 4 es:\", variable(9,4))"
   ]
  },
  {
   "cell_type": "code",
   "execution_count": 38,
   "id": "figured-gather",
   "metadata": {},
   "outputs": [
    {
     "name": "stdout",
     "output_type": "stream",
     "text": [
      "La suma de 17 y 34 son: 51\n",
      "La diferencia de 17 y 34 son: -17\n"
     ]
    }
   ],
   "source": [
    "# Si necesitamos que la expresión en una función anónima contenga más de una línea, podemos usar paréntesis\n",
    "# Notar que se utiliza la expresión: resultado1 [if] condicion [else] resultado2; pues la estructura de control if, elif, else\n",
    "# no es permitida en una expresión de función anónima\n",
    "unaFuncion = lambda operacion, operando1, operando2: (\n",
    "    operando1 + operando2 if operacion == 1 else\n",
    "    operando1 - operando2\n",
    ")\n",
    "\n",
    "# Ahora podemos ejecutar \"unaFuncion\" enviando la operación y operandos\n",
    "print(\"La suma de 17 y 34 son:\", unaFuncion(1,17,34))\n",
    "print(\"La diferencia de 17 y 34 son:\", unaFuncion(2,17,34))"
   ]
  },
  {
   "cell_type": "markdown",
   "id": "skilled-postcard",
   "metadata": {},
   "source": [
    "### Uso de funciones lambda en funciones de mayor orden\n",
    "\n",
    "Las funciones lambda pueden ser usadas por otras funciones de mayor orden (_higher-order functions_) como _filter()_ o _map()_ de Python, que reciben otras funciones como parámetros.\n",
    "\n",
    "Por ejemplo:"
   ]
  },
  {
   "cell_type": "code",
   "execution_count": 45,
   "id": "southeast-analyst",
   "metadata": {},
   "outputs": [
    {
     "name": "stdout",
     "output_type": "stream",
     "text": [
      "[3, 6, 9, 12, 15, 18]\n"
     ]
    }
   ],
   "source": [
    "# Se define una lista de valores del 1 al 20\n",
    "lista = list(range(1,21))\n",
    "\n",
    "# Se crea una nueva lista de valores conteniendo sólo los múltiplos de 3\n",
    "# Notar:\n",
    "#  - El uso de la función \"filter\" y del uso de una función anónima.\n",
    "#  - En este caso para ser agregado en la lista \"multiplosDeTres\", la expresión de la función anónima debía devolver verdadero.\n",
    "#  - El parámetro definido en la función lambda será cada elemento de la estructura \"lista\"\n",
    "multiplosDeTres = list(filter(lambda elemento: elemento % 3 == 0, lista))\n",
    "print(multiplosDeTres)"
   ]
  }
 ],
 "metadata": {
  "kernelspec": {
   "display_name": "Python 3",
   "language": "python",
   "name": "python3"
  },
  "language_info": {
   "codemirror_mode": {
    "name": "ipython",
    "version": 3
   },
   "file_extension": ".py",
   "mimetype": "text/x-python",
   "name": "python",
   "nbconvert_exporter": "python",
   "pygments_lexer": "ipython3",
   "version": "3.8.5"
  }
 },
 "nbformat": 4,
 "nbformat_minor": 5
}
